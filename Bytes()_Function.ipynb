{
  "nbformat": 4,
  "nbformat_minor": 0,
  "metadata": {
    "colab": {
      "provenance": []
    },
    "kernelspec": {
      "name": "python3",
      "display_name": "Python 3"
    },
    "language_info": {
      "name": "python"
    }
  },
  "cells": [
    {
      "cell_type": "code",
      "execution_count": 5,
      "metadata": {
        "colab": {
          "base_uri": "https://localhost:8080/"
        },
        "id": "yzf0CoQE-fnO",
        "outputId": "1c34009f-10c9-408f-db40-9eb4fb537306"
      },
      "outputs": [
        {
          "output_type": "stream",
          "name": "stdout",
          "text": [
            "b'Hello World.'\n"
          ]
        }
      ],
      "source": [
        "\n",
        "string = \"Hello World.\"  \n",
        "array = bytes(string, 'utf-8')  \n",
        "print(array) "
      ]
    },
    {
      "cell_type": "code",
      "source": [],
      "metadata": {
        "id": "FGvDu-z6AfWO"
      },
      "execution_count": null,
      "outputs": []
    },
    {
      "cell_type": "code",
      "source": [],
      "metadata": {
        "id": "ofnvtNC7-9Qf"
      },
      "execution_count": null,
      "outputs": []
    }
  ]
}