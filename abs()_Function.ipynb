{
  "nbformat": 4,
  "nbformat_minor": 0,
  "metadata": {
    "colab": {
      "provenance": []
    },
    "kernelspec": {
      "name": "python3",
      "display_name": "Python 3"
    },
    "language_info": {
      "name": "python"
    }
  },
  "cells": [
    {
      "cell_type": "code",
      "execution_count": 3,
      "metadata": {
        "colab": {
          "base_uri": "https://localhost:8080/"
        },
        "id": "yzf0CoQE-fnO",
        "outputId": "c6bffd26-71d1-4c8e-84d5-58aea070bd0a"
      },
      "outputs": [
        {
          "output_type": "stream",
          "name": "stdout",
          "text": [
            "Absolute value of 40 is: 20\n",
            "Absolute value of 40.83 is: 20.83\n"
          ]
        }
      ],
      "source": [
        "#Python abs() Function\n",
        "#  integer number     \n",
        "int = 20  \n",
        "print('Absolute value of 40 is:', abs(int))  \n",
        "  \n",
        "#  floating number  \n",
        "float = 20.83  \n",
        "print('Absolute value of 40.83 is:', abs(float))  "
      ]
    },
    {
      "cell_type": "code",
      "source": [],
      "metadata": {
        "id": "ofnvtNC7-9Qf"
      },
      "execution_count": null,
      "outputs": []
    }
  ]
}